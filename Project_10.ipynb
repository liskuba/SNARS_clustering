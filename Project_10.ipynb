{
 "cells": [
  {
   "cell_type": "markdown",
   "source": [
    "# Spectral clustering of network with K-means clustering in fewer dimensions\n",
    "\n",
    "Jakub Kozieł, Jakub Lis"
   ],
   "metadata": {
    "collapsed": false
   }
  },
  {
   "cell_type": "markdown",
   "source": [
    "## Imports"
   ],
   "metadata": {
    "collapsed": false
   }
  },
  {
   "cell_type": "code",
   "execution_count": 1,
   "outputs": [],
   "source": [
    "import pandas as pd\n",
    "import time\n",
    "import glob\n",
    "import networkx as nx\n",
    "import spectral_clustering\n",
    "import os\n",
    "import warnings\n",
    "\n",
    "warnings.filterwarnings(\"ignore\")"
   ],
   "metadata": {
    "collapsed": false
   }
  },
  {
   "cell_type": "markdown",
   "source": [
    "## Helper functions\n",
    "\n",
    "Loading graph from files + reordering clusters."
   ],
   "metadata": {
    "collapsed": false
   }
  },
  {
   "cell_type": "code",
   "execution_count": 2,
   "id": "12f0ebd3",
   "metadata": {},
   "outputs": [],
   "source": [
    "def load_graph_from_file(path_to_file):\n",
    "    A = pd.read_csv(path_to_file, header=None)\n",
    "    num_of_clusters = None\n",
    "    if 'K=' in path_to_file:\n",
    "        num_of_clusters = int(path_to_file.split('\\\\')[-1].split('K=')[-1][:-4])\n",
    "    return nx.Graph(A), num_of_clusters\n",
    "\n",
    "\n",
    "def reorder_clusters(clusters):\n",
    "    change_to = [0] * max(clusters)\n",
    "    for el in clusters:\n",
    "        if change_to[el - 1] == 0:\n",
    "            change_to[el - 1] = max(change_to) + 1\n",
    "    for i in range(len(clusters)):\n",
    "        clusters[i] = change_to[clusters[i] - 1]\n",
    "    return clusters"
   ]
  },
  {
   "cell_type": "markdown",
   "source": [
    "## Algorithm + writing results"
   ],
   "metadata": {
    "collapsed": false
   }
  },
  {
   "cell_type": "code",
   "execution_count": 3,
   "id": "16b72532",
   "metadata": {},
   "outputs": [],
   "source": [
    "with open('description.txt', 'w') as f:\n",
    "    f.write(\"Jakub Kozieł, Jakub Lis\\n\")\n",
    "    f.write(\"https://github.com/liskuba/SNARS_clustering\\n\")\n",
    "\n",
    "    for test_file in glob.glob(\"competition/*.csv\"):\n",
    "        f.write(test_file.split(os.sep)[-1] + \", \")\n",
    "\n",
    "        G, num_of_clusters = load_graph_from_file(test_file)\n",
    "\n",
    "        start_time = time.time()\n",
    "\n",
    "        clusters, num_of_clusters = spectral_clustering.spectral_clustering(G, num_of_clusters)\n",
    "\n",
    "        f.write(f\"{time.time() - start_time}\\n\")\n",
    "\n",
    "        result = pd.DataFrame(data={'node': list(G.nodes), 'cluster': reorder_clusters(clusters)})\n",
    "        result.to_csv(test_file.split(os.sep)[-1], header=False, index=False)"
   ]
  },
  {
   "cell_type": "code",
   "execution_count": 8,
   "id": "ca313a67",
   "metadata": {},
   "outputs": [],
   "source": []
  }
 ],
 "metadata": {
  "kernelspec": {
   "display_name": "Python 3 (ipykernel)",
   "language": "python",
   "name": "python3"
  },
  "language_info": {
   "codemirror_mode": {
    "name": "ipython",
    "version": 3
   },
   "file_extension": ".py",
   "mimetype": "text/x-python",
   "name": "python",
   "nbconvert_exporter": "python",
   "pygments_lexer": "ipython3",
   "version": "3.9.7"
  }
 },
 "nbformat": 4,
 "nbformat_minor": 5
}
